{
 "cells": [
  {
   "cell_type": "code",
   "execution_count": 18,
   "metadata": {},
   "outputs": [],
   "source": [
    "def f(x):\n",
    "    return x**3 - 7*x**2 + 14*x - 6"
   ]
  },
  {
   "cell_type": "code",
   "execution_count": 27,
   "metadata": {},
   "outputs": [],
   "source": [
    "def biseccion(a, b, tol):\n",
    "    if f(a) * f(b) >= 0:\n",
    "        print(\"El método de bisección no aplicable en este intervalo.\")\n",
    "        return None\n",
    "    \n",
    "    while (b - a) / 2 > tol:\n",
    "        c = (a + b) / 2\n",
    "        if f(c) == 0:\n",
    "            return c\n",
    "        elif f(a) * f(c) < 0:\n",
    "            b = c\n",
    "        else:\n",
    "            a = c\n",
    "    \n",
    "    return (a + b) / 2"
   ]
  },
  {
   "cell_type": "code",
   "execution_count": 26,
   "metadata": {},
   "outputs": [
    {
     "name": "stdout",
     "output_type": "stream",
     "text": [
      "El método de bisección no aplicable en este intervalo.\n",
      "La raíz en el intervalo [0, 1] es aproximadamente 3.4188\n",
      "La raíz en el intervalo [1, 3.2] es aproximadamente 3.4188\n",
      "El método de bisección no aplicable en este intervalo.\n",
      "La raíz en el intervalo [3.2, 4] es aproximadamente 3.4188\n"
     ]
    }
   ],
   "source": [
    "raiz = biseccion(0, 1,1e-2)\n",
    "print(f\"La raíz en el intervalo [0, 1] es aproximadamente {raiz:.4f}\")\n",
    "raiz = biseccion(1, 3.2,1e-2)\n",
    "print(f\"La raíz en el intervalo [1, 3.2] es aproximadamente {raiz:.4f}\")\n",
    "raiz = biseccion(3.2, 4,1e-2)\n",
    "print(f\"La raíz en el intervalo [3.2, 4] es aproximadamente {raiz:.4f}\")"
   ]
  },
  {
   "cell_type": "code",
   "execution_count": 21,
   "metadata": {},
   "outputs": [],
   "source": [
    "import math\n",
    "def f(x):\n",
    "    return x - 2 * math.sin(x)"
   ]
  },
  {
   "cell_type": "code",
   "execution_count": 22,
   "metadata": {},
   "outputs": [
    {
     "name": "stdout",
     "output_type": "stream",
     "text": [
      "El método de bisección no aplicable en este intervalo.\n"
     ]
    }
   ],
   "source": [
    "b = math.pi / 2\n",
    "raiz = biseccion(0, b,1e-6)"
   ]
  },
  {
   "cell_type": "code",
   "execution_count": null,
   "metadata": {},
   "outputs": [],
   "source": []
  }
 ],
 "metadata": {
  "kernelspec": {
   "display_name": "base",
   "language": "python",
   "name": "python3"
  },
  "language_info": {
   "codemirror_mode": {
    "name": "ipython",
    "version": 3
   },
   "file_extension": ".py",
   "mimetype": "text/x-python",
   "name": "python",
   "nbconvert_exporter": "python",
   "pygments_lexer": "ipython3",
   "version": "3.11.5"
  }
 },
 "nbformat": 4,
 "nbformat_minor": 2
}
